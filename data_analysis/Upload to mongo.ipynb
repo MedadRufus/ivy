{
 "cells": [
  {
   "cell_type": "code",
   "execution_count": 34,
   "metadata": {},
   "outputs": [],
   "source": [
    "from pathlib import Path\n",
    "import json\n",
    "import plotly.express as px\n",
    "import pandas as pd\n",
    "from json.decoder import JSONDecodeError\n",
    "import logging\n",
    "\n",
    "target_env = \".env\"\n",
    "\n",
    "\n",
    "logs_dir = Path(\"../data/logs\")\n",
    "\n",
    "files = list(logs_dir.glob('*.log'))\n"
   ]
  },
  {
   "cell_type": "code",
   "execution_count": 25,
   "metadata": {},
   "outputs": [],
   "source": [
    "data = []\n",
    "\n",
    "for i in files:\n",
    "    data_in_this_file = i.read_text().splitlines()\n",
    "    for i in data_in_this_file:\n",
    "        try:\n",
    "            if target_env in i:\n",
    "                data+=data_in_this_file\n",
    "                break\n",
    "        except KeyError:\n",
    "            pass\n",
    "            #print(\"key error\")\n",
    "        except JSONDecodeError:# mongo relatedMongoLogger\n",
    "            print(\"json decode error\")"
   ]
  },
  {
   "cell_type": "code",
   "execution_count": 26,
   "metadata": {},
   "outputs": [
    {
     "data": {
      "text/plain": [
       "['{\"created\": 1609824462.248437, \"logger\": \"job_1609824459_dbad0212caa4431c8ce3a807ac22ab9b\", \"level\": \"INFO\", \"message\": \"Processing started.\", \"meta\": {\"label\": \"START_PROCESS\", \"counter_config\": {\"di\": 10, \"mcdf\": 2, \"mctf\": 3, \"detector\": \"yolo\", \"tracker\": \"kcf\", \"use_droi\": false, \"droi\": [[0, 0], [1920, 0], [1920, 1080], [0, 1080]], \"counting_lines\": [{\"label\": \"main_crosswalk\", \"line\": [[562, 842], [1913, 441]]}, {\"label\": \"road1\", \"line\": [[331, 421], [573, 812]]}, {\"label\": \"road2\", \"line\": [[304, 472], [821, 202]]}, {\"label\": \"road3\", \"line\": [[812, 198], [1242, 279]]}], \"argfile\": \"tokyo_crosswalk.env\"}}}',\n",
       " '{\"created\": 1609824462.3531783, \"logger\": \"job_1609824459_dbad0212caa4431c8ce3a807ac22ab9b\", \"level\": \"INFO\", \"message\": \"Object counted.\", \"meta\": {\"label\": \"OBJECT_COUNT\", \"id\": \"obj_24d87f3bd0894c17b8b671223b652e87\", \"type\": \"car\", \"counting_line\": \"road1\", \"position_first_detected\": [560, 726], \"position_counted\": [560, 726], \"counted_at\": 1609824462.3531601}}',\n",
       " '{\"created\": 1609824462.3534107, \"logger\": \"job_1609824459_dbad0212caa4431c8ce3a807ac22ab9b\", \"level\": \"INFO\", \"message\": \"Object counted.\", \"meta\": {\"label\": \"OBJECT_COUNT\", \"id\": \"obj_5fff2727ad3e4e1ab5167717ec36d224\", \"type\": \"car\", \"counting_line\": \"road2\", \"position_first_detected\": [608, 363], \"position_counted\": [608, 364], \"counted_at\": 1609824462.353401}}',\n",
       " '{\"created\": 1609824462.3535597, \"logger\": \"job_1609824459_dbad0212caa4431c8ce3a807ac22ab9b\", \"level\": \"INFO\", \"message\": \"Object counted.\", \"meta\": {\"label\": \"OBJECT_COUNT\", \"id\": \"obj_221111f6c1b64408915103cf36e22407\", \"type\": \"car\", \"counting_line\": \"main_crosswalk\", \"position_first_detected\": [1143, 602], \"position_counted\": [1143, 602], \"counted_at\": 1609824462.3535514}}',\n",
       " '{\"created\": 1609824462.3537252, \"logger\": \"job_1609824459_dbad0212caa4431c8ce3a807ac22ab9b\", \"level\": \"INFO\", \"message\": \"Object counted.\", \"meta\": {\"label\": \"OBJECT_COUNT\", \"id\": \"obj_c4fefbaf72af41c898984b26e72740e3\", \"type\": \"car\", \"counting_line\": \"road3\", \"position_first_detected\": [1098, 272], \"position_counted\": [1098, 272], \"counted_at\": 1609824462.353717}}']"
      ]
     },
     "execution_count": 26,
     "metadata": {},
     "output_type": "execute_result"
    }
   ],
   "source": [
    "data[:5]"
   ]
  },
  {
   "cell_type": "code",
   "execution_count": 27,
   "metadata": {},
   "outputs": [],
   "source": [
    "rows = []\n",
    "\n",
    "for a in data:\n",
    "    try:\n",
    "        i= json.loads(a)\n",
    "        if i[\"level\"] == \"INFO\" and i[\"meta\"][\"label\"] == \"OBJECT_COUNT\":\n",
    "            rows.append(i)\n",
    "    except TypeError:\n",
    "        pass\n",
    "\n",
    "            "
   ]
  },
  {
   "cell_type": "code",
   "execution_count": 28,
   "metadata": {},
   "outputs": [],
   "source": [
    "rows = [row[\"meta\"] for row in rows]"
   ]
  },
  {
   "cell_type": "code",
   "execution_count": 29,
   "metadata": {},
   "outputs": [
    {
     "data": {
      "text/plain": [
       "[{'label': 'OBJECT_COUNT',\n",
       "  'id': 'obj_24d87f3bd0894c17b8b671223b652e87',\n",
       "  'type': 'car',\n",
       "  'counting_line': 'road1',\n",
       "  'position_first_detected': [560, 726],\n",
       "  'position_counted': [560, 726],\n",
       "  'counted_at': 1609824462.3531601},\n",
       " {'label': 'OBJECT_COUNT',\n",
       "  'id': 'obj_5fff2727ad3e4e1ab5167717ec36d224',\n",
       "  'type': 'car',\n",
       "  'counting_line': 'road2',\n",
       "  'position_first_detected': [608, 363],\n",
       "  'position_counted': [608, 364],\n",
       "  'counted_at': 1609824462.353401},\n",
       " {'label': 'OBJECT_COUNT',\n",
       "  'id': 'obj_221111f6c1b64408915103cf36e22407',\n",
       "  'type': 'car',\n",
       "  'counting_line': 'main_crosswalk',\n",
       "  'position_first_detected': [1143, 602],\n",
       "  'position_counted': [1143, 602],\n",
       "  'counted_at': 1609824462.3535514},\n",
       " {'label': 'OBJECT_COUNT',\n",
       "  'id': 'obj_c4fefbaf72af41c898984b26e72740e3',\n",
       "  'type': 'car',\n",
       "  'counting_line': 'road3',\n",
       "  'position_first_detected': [1098, 272],\n",
       "  'position_counted': [1098, 272],\n",
       "  'counted_at': 1609824462.353717}]"
      ]
     },
     "execution_count": 29,
     "metadata": {},
     "output_type": "execute_result"
    }
   ],
   "source": [
    "rows[:4]"
   ]
  },
  {
   "cell_type": "code",
   "execution_count": 30,
   "metadata": {},
   "outputs": [],
   "source": [
    "from pymongo import MongoClient\n",
    "import urllib.parse\n",
    "import uuid\n",
    "\n",
    "# init mongo connection\n",
    "username = urllib.parse.quote_plus('dbUser')\n",
    "password = urllib.parse.quote_plus(\"PwBhv72bEOq4NGlI\")\n",
    "url = \"mongodb+srv://{}:{}@cluster0.edygp.mongodb.net/test?retryWrites=true&w=majority\".format(username, password)\n",
    "client = MongoClient(url)\n",
    "db = client[\"traffic\"]\n",
    "mycol = db[\"traffic_data\"]\n"
   ]
  },
  {
   "cell_type": "code",
   "execution_count": 31,
   "metadata": {},
   "outputs": [],
   "source": [
    "class MongoLogger:\n",
    "    def __init__(self):\n",
    "        self.server_uuid = self.get_server_uuid()\n",
    "\n",
    "    def log_data(self, data_dict: dict):\n",
    "\n",
    "        data_dict[\"computer_id\"] = self.server_uuid\n",
    "        data_dict[\"arg_file\"] = target_env\n",
    "        #mycol.insert_one(data_dict)\n",
    "\n",
    "    def log_data_many(self, data_list: [dict]):\n",
    "        for i in data_list:\n",
    "            i[\"computer_id\"] = self.server_uuid\n",
    "            i[\"arg_file\"] = target_env\n",
    "        mycol.insert_many(data_list)\n",
    "\n",
    "    def get_server_uuid(self):\n",
    "        computer_id = str(uuid.UUID(int=uuid.getnode()))\n",
    "        return computer_id\n",
    "\n"
   ]
  },
  {
   "cell_type": "code",
   "execution_count": 32,
   "metadata": {},
   "outputs": [],
   "source": [
    "ml = MongoLogger()"
   ]
  },
  {
   "cell_type": "code",
   "execution_count": 33,
   "metadata": {},
   "outputs": [],
   "source": [
    "ml.log_data_many(rows)"
   ]
  },
  {
   "cell_type": "code",
   "execution_count": null,
   "metadata": {},
   "outputs": [],
   "source": []
  }
 ],
 "metadata": {
  "kernelspec": {
   "display_name": "Python 3",
   "language": "python",
   "name": "python3"
  },
  "language_info": {
   "codemirror_mode": {
    "name": "ipython",
    "version": 3
   },
   "file_extension": ".py",
   "mimetype": "text/x-python",
   "name": "python",
   "nbconvert_exporter": "python",
   "pygments_lexer": "ipython3",
   "version": "3.6.9"
  }
 },
 "nbformat": 4,
 "nbformat_minor": 4
}
