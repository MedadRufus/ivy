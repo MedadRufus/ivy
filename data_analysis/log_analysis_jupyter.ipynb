{
 "cells": [
  {
   "cell_type": "code",
   "execution_count": 134,
   "metadata": {},
   "outputs": [],
   "source": [
    "from pathlib import Path\n",
    "import json\n",
    "import plotly.express as px\n",
    "import pandas as pd\n",
    "from json.decoder import JSONDecodeError\n",
    "import logging"
   ]
  },
  {
   "cell_type": "code",
   "execution_count": 135,
   "metadata": {},
   "outputs": [],
   "source": [
    "target_env = \"casa_grande.env\"\n",
    "\n",
    "logs_dir = Path(\"../data/logs\")\n",
    "\n",
    "files = list(logs_dir.glob('*.log'))"
   ]
  },
  {
   "cell_type": "code",
   "execution_count": 136,
   "metadata": {},
   "outputs": [],
   "source": [
    "data = []\n",
    "\n",
    "for f in files:\n",
    "    data_in_this_file = f.read_text().splitlines()\n",
    "    for line in data_in_this_file:\n",
    "        try:\n",
    "            if target_env in line:\n",
    "                data += data_in_this_file\n",
    "                break\n",
    "        except KeyError:\n",
    "            print(\"key error\")\n",
    "        except JSONDecodeError:\n",
    "            print(\"json decode error\")"
   ]
  },
  {
   "cell_type": "code",
   "execution_count": 137,
   "metadata": {},
   "outputs": [
    {
     "data": {
      "text/plain": [
       "1725961"
      ]
     },
     "execution_count": 137,
     "metadata": {},
     "output_type": "execute_result"
    }
   ],
   "source": [
    "len(data)"
   ]
  },
  {
   "cell_type": "code",
   "execution_count": 138,
   "metadata": {},
   "outputs": [],
   "source": [
    "timestamps = []\n",
    "\n",
    "for i in data:\n",
    "    i = json.loads(i)\n",
    "    try:\n",
    "        if i[\"meta\"][\"label\"] == \"OBJECT_COUNT\":\n",
    "            timestamps.append(i[\"meta\"][\"counted_at\"])\n",
    "    except KeyError:\n",
    "        pass\n"
   ]
  },
  {
   "cell_type": "code",
   "execution_count": 139,
   "metadata": {},
   "outputs": [],
   "source": [
    "import plotly.io as pio\n",
    "pio.renderers.default = 'browser'\n",
    "\n",
    "df = pd.Series(timestamps)\n",
    "df = pd.to_datetime(df, unit='s')\n",
    "fig = px.histogram(df, nbins=80)\n",
    "fig.show()\n",
    "\n"
   ]
  },
  {
   "cell_type": "code",
   "execution_count": null,
   "metadata": {},
   "outputs": [],
   "source": []
  }
 ],
 "metadata": {
  "kernelspec": {
   "display_name": "Python 3",
   "language": "python",
   "name": "python3"
  },
  "language_info": {
   "codemirror_mode": {
    "name": "ipython",
    "version": 3
   },
   "file_extension": ".py",
   "mimetype": "text/x-python",
   "name": "python",
   "nbconvert_exporter": "python",
   "pygments_lexer": "ipython3",
   "version": "3.6.9"
  }
 },
 "nbformat": 4,
 "nbformat_minor": 4
}
